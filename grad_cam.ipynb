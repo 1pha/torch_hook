{
 "cells": [
  {
   "cell_type": "code",
   "execution_count": 1,
   "id": "external-effect",
   "metadata": {
    "ExecuteTime": {
     "end_time": "2021-02-23T05:46:16.558324Z",
     "start_time": "2021-02-23T05:46:15.275365Z"
    }
   },
   "outputs": [],
   "source": [
    "import torch\n",
    "import torch.nn as nn\n",
    "from torch.autograd import Variable"
   ]
  },
  {
   "cell_type": "code",
   "execution_count": 67,
   "id": "alpine-voice",
   "metadata": {
    "ExecuteTime": {
     "end_time": "2021-02-23T06:46:27.138403Z",
     "start_time": "2021-02-23T06:46:27.120407Z"
    }
   },
   "outputs": [],
   "source": [
    "class Linear(nn.Module):\n",
    "    def __init__(self,feature_list):\n",
    "        super(Linear,self).__init__()\n",
    "        self.feature_list = feature_list\n",
    "        self.layers = []\n",
    "        \n",
    "        # Define Layers\n",
    "        for i in range(len(feature_list)-1):\n",
    "            self.layers.append(nn.Linear(self.feature_list[i],self.feature_list[i+1]))\n",
    "        self.total = nn.ModuleList(self.layers)\n",
    "             \n",
    "        # Initialize Weights to 1 in order to check gradients easily.\n",
    "        for idx,m in enumerate(self.total):\n",
    "            if isinstance(m, nn.Linear):\n",
    "                m.weight.data.fill_(1)\n",
    "                m.bias.data.fill_(0)\n",
    "                \n",
    "            if idx==1:\n",
    "                self.h0 = m.register_forward_hook(self.forward_hook)\n",
    "                self.h1 = m.register_forward_pre_hook(self.forward_pre_hook)\n",
    "                self.h2 = m.register_backward_hook(self.backward_hook)\n",
    "                \n",
    "                \n",
    "    # hook(module, input, output) -> None            \n",
    "    def forward_hook(self,*args):\n",
    "        module,input,output = args[0],args[1],args[2]\n",
    "        print(\"\\n This is Forward Hook \\n\")\n",
    "        # This part is weird \n",
    "        for i in args:\n",
    "            print(type(i))\n",
    "            \n",
    "        \n",
    "    # hook(module, grad_input, grad_output)\n",
    "    def backward_hook(self,*args):\n",
    "        module, grad_input, grad_output = args[0],args[1],args[2]\n",
    "        print(\"\\n This is Backward Hook \\n\")\n",
    "        print(grad_input)\n",
    "        print(grad_output)\n",
    "        for i in args:\n",
    "            print(type(i))\n",
    "        \n",
    "    \n",
    "    # hook(module, input)\n",
    "    def forward_pre_hook(self,*args):\n",
    "        module, input = args[0],args[1]\n",
    "        print(\"\\n This is Forward Pre Hook \\n\")\n",
    "        for i in args:\n",
    "            print(type(i))\n",
    "        \n",
    "    \n",
    "    def remove_hook(self):\n",
    "        self.h0.remove()\n",
    "        self.h1.remove()\n",
    "        self.h2.remove()\n",
    "    \n",
    "    def forward(self,x):\n",
    "        out = x\n",
    "        for idx,layer in enumerate(self.total):\n",
    "            out = layer(out)\n",
    "        return out"
   ]
  },
  {
   "cell_type": "code",
   "execution_count": 68,
   "id": "rocky-island",
   "metadata": {
    "ExecuteTime": {
     "end_time": "2021-02-23T06:46:27.643472Z",
     "start_time": "2021-02-23T06:46:27.632863Z"
    }
   },
   "outputs": [],
   "source": [
    "class LinearNaive(nn.Module):\n",
    "    def __init__(self,feature_list):\n",
    "        super(LinearNaive,self).__init__()\n",
    "        self.feature_list = feature_list\n",
    "        self.layers = []\n",
    "        \n",
    "        # Define Layers\n",
    "        for i in range(len(feature_list)-1):\n",
    "            self.layers.append(nn.Linear(self.feature_list[i],self.feature_list[i+1]))\n",
    "        self.total = nn.ModuleList(self.layers)\n",
    "             \n",
    "        # Initialize Weights to 1 in order to check gradients easily.\n",
    "        for idx,m in enumerate(self.total):\n",
    "            if isinstance(m, nn.Linear):\n",
    "                m.weight.data.fill_(2)\n",
    "                m.bias.data.fill_(0)\n",
    "    \n",
    "    def forward(self,x):\n",
    "        out = x\n",
    "        for idx,layer in enumerate(self.total):\n",
    "            out = layer(out)\n",
    "        return out"
   ]
  },
  {
   "cell_type": "code",
   "execution_count": 69,
   "id": "disabled-belize",
   "metadata": {
    "ExecuteTime": {
     "end_time": "2021-02-23T06:46:27.674984Z",
     "start_time": "2021-02-23T06:46:27.667984Z"
    }
   },
   "outputs": [],
   "source": [
    "class VerboseExecution(nn.Module):\n",
    "    def __init__(self, model: nn.Module):\n",
    "        super().__init__()\n",
    "        self.model = model\n",
    "\n",
    "        # Register a hook for each layer\n",
    "        for name, layer in self.model.named_children():\n",
    "            layer.__name__ = name\n",
    "            layer.register_forward_hook(\n",
    "                lambda layer, _, output: print(f\"{layer.__name__}: {output.shape}\")\n",
    "            )\n",
    "\n",
    "    def forward(self, x):\n",
    "        return self.model(x)"
   ]
  },
  {
   "cell_type": "code",
   "execution_count": 70,
   "id": "informational-alpha",
   "metadata": {
    "ExecuteTime": {
     "end_time": "2021-02-23T06:46:27.706983Z",
     "start_time": "2021-02-23T06:46:27.698985Z"
    }
   },
   "outputs": [],
   "source": [
    "feature_list = [1,2,4]\n",
    "model = LinearNaive(feature_list)\n",
    "verbose_model = VerboseExecution(model)"
   ]
  },
  {
   "cell_type": "code",
   "execution_count": 71,
   "id": "israeli-recommendation",
   "metadata": {
    "ExecuteTime": {
     "end_time": "2021-02-23T06:46:27.864813Z",
     "start_time": "2021-02-23T06:46:27.855814Z"
    }
   },
   "outputs": [],
   "source": [
    "feature_list = [1,2,4]\n",
    "model = Linear(feature_list)"
   ]
  },
  {
   "cell_type": "code",
   "execution_count": 72,
   "id": "architectural-winter",
   "metadata": {
    "ExecuteTime": {
     "end_time": "2021-02-23T06:46:28.039087Z",
     "start_time": "2021-02-23T06:46:28.025089Z"
    }
   },
   "outputs": [
    {
     "name": "stdout",
     "output_type": "stream",
     "text": [
      "\n",
      " This is Forward Pre Hook \n",
      "\n",
      "<class 'torch.nn.modules.linear.Linear'>\n",
      "<class 'tuple'>\n",
      "\n",
      " This is Forward Hook \n",
      "\n",
      "<class 'torch.nn.modules.linear.Linear'>\n",
      "<class 'tuple'>\n",
      "<class 'torch.Tensor'>\n"
     ]
    }
   ],
   "source": [
    "x = Variable(torch.ones(2,1),requires_grad=True)\n",
    "out = model(x)\n",
    "out = torch.sum(out)"
   ]
  },
  {
   "cell_type": "code",
   "execution_count": 73,
   "id": "intensive-victim",
   "metadata": {
    "ExecuteTime": {
     "end_time": "2021-02-23T06:46:28.228750Z",
     "start_time": "2021-02-23T06:46:28.215778Z"
    }
   },
   "outputs": [
    {
     "name": "stdout",
     "output_type": "stream",
     "text": [
      "\n",
      " This is Backward Hook \n",
      "\n",
      "(tensor([2., 2., 2., 2.]), tensor([[4., 4.],\n",
      "        [4., 4.]]), tensor([[2., 2., 2., 2.],\n",
      "        [2., 2., 2., 2.]]))\n",
      "(tensor([[1., 1., 1., 1.],\n",
      "        [1., 1., 1., 1.]]),)\n",
      "<class 'torch.nn.modules.linear.Linear'>\n",
      "<class 'tuple'>\n",
      "<class 'tuple'>\n"
     ]
    }
   ],
   "source": [
    "out.backward()"
   ]
  },
  {
   "cell_type": "code",
   "execution_count": 74,
   "id": "guilty-subscription",
   "metadata": {
    "ExecuteTime": {
     "end_time": "2021-02-23T06:46:28.415258Z",
     "start_time": "2021-02-23T06:46:28.399285Z"
    }
   },
   "outputs": [
    {
     "name": "stdout",
     "output_type": "stream",
     "text": [
      "tensor([0.4000, 0.4000, 0.4000, 0.4000, 0.4000]) tensor([0.2000, 0.2000, 0.2000, 0.2000, 0.2000])\n",
      "tensor([0.2000, 0.2000, 0.2000, 0.2000, 0.2000])\n",
      "tensor([0.4000, 0.4000, 0.4000, 0.4000, 0.4000]) tensor([0.2000, 0.2000, 0.2000, 0.2000, 0.2000])\n"
     ]
    }
   ],
   "source": [
    "import torch \n",
    "a = torch.ones(5)\n",
    "a.requires_grad = True\n",
    "\n",
    "b = 2*a\n",
    "\n",
    "b.retain_grad()   # Since b is non-leaf and it's grad will be destroyed otherwise.\n",
    "\n",
    "c = b.mean()\n",
    "\n",
    "c.backward()\n",
    "\n",
    "print(a.grad, b.grad)\n",
    "\n",
    "# Redo the experiment but with a hook that multiplies b's grad by 2. \n",
    "a = torch.ones(5)\n",
    "\n",
    "a.requires_grad = True\n",
    "\n",
    "b = 2*a\n",
    "\n",
    "b.retain_grad()\n",
    "\n",
    "b.register_hook(lambda x: print(x))  \n",
    "\n",
    "b.mean().backward() \n",
    "\n",
    "\n",
    "print(a.grad, b.grad)"
   ]
  },
  {
   "cell_type": "code",
   "execution_count": 32,
   "id": "aware-massage",
   "metadata": {
    "ExecuteTime": {
     "end_time": "2021-02-23T06:33:01.478014Z",
     "start_time": "2021-02-23T06:33:01.465445Z"
    }
   },
   "outputs": [
    {
     "data": {
      "text/plain": [
       "tensor([2., 2., 2., 2., 2.], grad_fn=<MulBackward0>)"
      ]
     },
     "execution_count": 32,
     "metadata": {},
     "output_type": "execute_result"
    }
   ],
   "source": [
    "b"
   ]
  },
  {
   "cell_type": "code",
   "execution_count": 45,
   "id": "exotic-founder",
   "metadata": {
    "ExecuteTime": {
     "end_time": "2021-02-23T06:36:39.577661Z",
     "start_time": "2021-02-23T06:36:39.562084Z"
    }
   },
   "outputs": [
    {
     "name": "stdout",
     "output_type": "stream",
     "text": [
      "tensor([[1., 1.],\n",
      "        [1., 1.]], requires_grad=True)\n",
      "tensor([[3., 3.],\n",
      "        [3., 3.]], grad_fn=<AddBackward0>)\n"
     ]
    }
   ],
   "source": [
    "x = torch.ones(2, 2, requires_grad=True)\n",
    "print(x)\n",
    "y = x + 2\n",
    "y.retain_grad()\n",
    "print(y)"
   ]
  },
  {
   "cell_type": "code",
   "execution_count": 46,
   "id": "talented-institute",
   "metadata": {
    "ExecuteTime": {
     "end_time": "2021-02-23T06:36:39.751515Z",
     "start_time": "2021-02-23T06:36:39.745517Z"
    }
   },
   "outputs": [],
   "source": [
    "z = y * y * 3"
   ]
  },
  {
   "cell_type": "code",
   "execution_count": 47,
   "id": "rental-exhaust",
   "metadata": {
    "ExecuteTime": {
     "end_time": "2021-02-23T06:36:39.926654Z",
     "start_time": "2021-02-23T06:36:39.913624Z"
    }
   },
   "outputs": [],
   "source": [
    "out = z.mean()\n",
    "out.backward()"
   ]
  },
  {
   "cell_type": "code",
   "execution_count": 48,
   "id": "verified-nickel",
   "metadata": {
    "ExecuteTime": {
     "end_time": "2021-02-23T06:36:40.132230Z",
     "start_time": "2021-02-23T06:36:40.113190Z"
    }
   },
   "outputs": [
    {
     "data": {
      "text/plain": [
       "tensor([[4.5000, 4.5000],\n",
       "        [4.5000, 4.5000]])"
      ]
     },
     "execution_count": 48,
     "metadata": {},
     "output_type": "execute_result"
    }
   ],
   "source": [
    "x.grad"
   ]
  },
  {
   "cell_type": "code",
   "execution_count": 49,
   "id": "phantom-object",
   "metadata": {
    "ExecuteTime": {
     "end_time": "2021-02-23T06:36:40.305961Z",
     "start_time": "2021-02-23T06:36:40.296950Z"
    }
   },
   "outputs": [
    {
     "data": {
      "text/plain": [
       "tensor([[4.5000, 4.5000],\n",
       "        [4.5000, 4.5000]])"
      ]
     },
     "execution_count": 49,
     "metadata": {},
     "output_type": "execute_result"
    }
   ],
   "source": [
    "y.grad"
   ]
  },
  {
   "cell_type": "code",
   "execution_count": 78,
   "id": "looking-occupation",
   "metadata": {
    "ExecuteTime": {
     "end_time": "2021-02-23T06:47:36.787257Z",
     "start_time": "2021-02-23T06:47:36.776683Z"
    }
   },
   "outputs": [
    {
     "data": {
      "text/plain": [
       "tensor(0., grad_fn=<SumBackward0>)"
      ]
     },
     "execution_count": 78,
     "metadata": {},
     "output_type": "execute_result"
    }
   ],
   "source": [
    "c_ = torch.zeros(4, requires_grad=True)\n",
    "c_.sum()"
   ]
  },
  {
   "cell_type": "code",
   "execution_count": 79,
   "id": "loving-peoples",
   "metadata": {
    "ExecuteTime": {
     "end_time": "2021-02-23T06:47:36.993079Z",
     "start_time": "2021-02-23T06:47:36.982107Z"
    }
   },
   "outputs": [
    {
     "data": {
      "text/plain": [
       "tensor([1., 1., 1., 1.])"
      ]
     },
     "execution_count": 79,
     "metadata": {},
     "output_type": "execute_result"
    }
   ],
   "source": [
    "c_.sum().backward()\n",
    "c_.grad"
   ]
  },
  {
   "cell_type": "code",
   "execution_count": 80,
   "id": "pressing-administrator",
   "metadata": {
    "ExecuteTime": {
     "end_time": "2021-02-23T06:49:50.218087Z",
     "start_time": "2021-02-23T06:49:50.208507Z"
    }
   },
   "outputs": [],
   "source": [
    "l = nn.Linear(1, 2)"
   ]
  },
  {
   "cell_type": "code",
   "execution_count": 81,
   "id": "broad-crazy",
   "metadata": {
    "ExecuteTime": {
     "end_time": "2021-02-23T06:49:58.272111Z",
     "start_time": "2021-02-23T06:49:58.255110Z"
    }
   },
   "outputs": [
    {
     "data": {
      "text/plain": [
       "tensor([[-0.8580, -0.8244]], grad_fn=<AddmmBackward>)"
      ]
     },
     "execution_count": 81,
     "metadata": {},
     "output_type": "execute_result"
    }
   ],
   "source": [
    "l(torch.ones(1, 1))"
   ]
  },
  {
   "cell_type": "code",
   "execution_count": null,
   "id": "radio-trademark",
   "metadata": {},
   "outputs": [],
   "source": []
  }
 ],
 "metadata": {
  "kernelspec": {
   "display_name": "brain",
   "language": "python",
   "name": "brain"
  },
  "language_info": {
   "codemirror_mode": {
    "name": "ipython",
    "version": 3
   },
   "file_extension": ".py",
   "mimetype": "text/x-python",
   "name": "python",
   "nbconvert_exporter": "python",
   "pygments_lexer": "ipython3",
   "version": "3.7.9"
  },
  "toc": {
   "base_numbering": 1,
   "nav_menu": {},
   "number_sections": true,
   "sideBar": true,
   "skip_h1_title": false,
   "title_cell": "Table of Contents",
   "title_sidebar": "Contents",
   "toc_cell": false,
   "toc_position": {},
   "toc_section_display": true,
   "toc_window_display": false
  }
 },
 "nbformat": 4,
 "nbformat_minor": 5
}
