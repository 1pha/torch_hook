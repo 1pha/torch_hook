{
 "cells": [
  {
   "cell_type": "code",
   "execution_count": 15,
   "id": "public-cassette",
   "metadata": {
    "ExecuteTime": {
     "end_time": "2021-02-26T06:13:53.614163Z",
     "start_time": "2021-02-26T06:13:53.597123Z"
    }
   },
   "outputs": [],
   "source": [
    "import os\n",
    "\n",
    "os.environ[\"CUDA_VISIBLE_DEVICES\"]=\"0\"\n",
    "\n",
    "import numpy as np\n",
    "import torch\n",
    "import torch.nn as nn\n",
    "from torchsummary import summary\n",
    "\n",
    "import matplotlib.pyplot as plt\n",
    "%matplotlib inline  \n",
    "\n",
    "from skimage.transform import resize"
   ]
  },
  {
   "cell_type": "code",
   "execution_count": 2,
   "id": "occupied-psychiatry",
   "metadata": {
    "ExecuteTime": {
     "end_time": "2021-02-26T06:11:06.538453Z",
     "start_time": "2021-02-26T06:11:06.516367Z"
    }
   },
   "outputs": [],
   "source": [
    "# from trainer import run\n",
    "\n",
    "# model, result = run()\n",
    "# torch.save(model, 'mnist.pth')"
   ]
  },
  {
   "cell_type": "code",
   "execution_count": 3,
   "id": "prerequisite-female",
   "metadata": {
    "ExecuteTime": {
     "end_time": "2021-02-26T06:11:06.586481Z",
     "start_time": "2021-02-26T06:11:06.574455Z"
    }
   },
   "outputs": [],
   "source": [
    "gradient = []\n",
    "def save_gradient(*args): # takes module/grad_input/grad_output\n",
    "    \n",
    "    grad_input = args[1]\n",
    "    grad_output= args[2]\n",
    "    gradient.append(grad_output[0])"
   ]
  },
  {
   "cell_type": "code",
   "execution_count": 4,
   "id": "architectural-greeting",
   "metadata": {
    "ExecuteTime": {
     "end_time": "2021-02-26T06:11:08.092811Z",
     "start_time": "2021-02-26T06:11:06.588478Z"
    }
   },
   "outputs": [],
   "source": [
    "device = \"cuda:0\" if torch.cuda.is_available() else \"cpu\"\n",
    "\n",
    "from dataloader import get_dataloader\n",
    "train_loader, _ = get_dataloader()\n",
    "\n",
    "idx = 0\n",
    "batch = next(iter(train_loader))\n",
    "sample = batch[0][idx][None, ...].to(device=device, dtype=torch.float)\n",
    "sample_label = batch[1][idx]"
   ]
  },
  {
   "cell_type": "code",
   "execution_count": 5,
   "id": "listed-gasoline",
   "metadata": {
    "ExecuteTime": {
     "end_time": "2021-02-26T06:11:08.359876Z",
     "start_time": "2021-02-26T06:11:08.094811Z"
    }
   },
   "outputs": [],
   "source": [
    "from model import CNN\n",
    "model = CNN().to(device)\n",
    "model = torch.load('mnist.pth')\n",
    "h = model.layer[11].register_backward_hook(save_gradient)\n",
    "# summary(model, input_size=(1, 28, 28))"
   ]
  },
  {
   "cell_type": "code",
   "execution_count": 7,
   "id": "guided-syndrome",
   "metadata": {
    "ExecuteTime": {
     "end_time": "2021-02-26T06:11:09.200409Z",
     "start_time": "2021-02-26T06:11:08.376532Z"
    }
   },
   "outputs": [],
   "source": [
    "output = model(sample).cpu()\n",
    "output = torch.index_select(output, dim=1, index=sample_label)\n",
    "output = torch.sum(output)"
   ]
  },
  {
   "cell_type": "code",
   "execution_count": 8,
   "id": "pleasant-sensitivity",
   "metadata": {
    "ExecuteTime": {
     "end_time": "2021-02-26T06:11:13.886199Z",
     "start_time": "2021-02-26T06:11:13.878199Z"
    }
   },
   "outputs": [],
   "source": [
    "output.backward(retain_graph=True)"
   ]
  },
  {
   "cell_type": "code",
   "execution_count": 10,
   "id": "elect-register",
   "metadata": {
    "ExecuteTime": {
     "end_time": "2021-02-26T05:56:38.388606Z",
     "start_time": "2021-02-26T05:56:38.377607Z"
    }
   },
   "outputs": [],
   "source": [
    "alpha = torch.sum(grad, dim=3)\n",
    "alpha = torch.sum(alpha, dim=2)"
   ]
  },
  {
   "cell_type": "code",
   "execution_count": 11,
   "id": "undefined-domestic",
   "metadata": {
    "ExecuteTime": {
     "end_time": "2021-02-26T05:56:38.404609Z",
     "start_time": "2021-02-26T05:56:38.390606Z"
    }
   },
   "outputs": [],
   "source": [
    "result = torch.zeros(7, 7)\n",
    "for a, g in zip(alpha[0].cpu(), grad[0].cpu()):\n",
    "    result += a * g"
   ]
  },
  {
   "cell_type": "code",
   "execution_count": 12,
   "id": "ideal-courtesy",
   "metadata": {
    "ExecuteTime": {
     "end_time": "2021-02-26T05:56:38.516602Z",
     "start_time": "2021-02-26T05:56:38.405605Z"
    }
   },
   "outputs": [
    {
     "data": {
      "text/plain": [
       "<matplotlib.image.AxesImage at 0x28f1a5dfc48>"
      ]
     },
     "execution_count": 12,
     "metadata": {},
     "output_type": "execute_result"
    },
    {
     "data": {
      "image/png": "[encoded data removed]",
      "text/plain": [
       "<Figure size 432x288 with 1 Axes>"
      ]
     },
     "metadata": {
      "needs_background": "light"
     },
     "output_type": "display_data"
    }
   ],
   "source": [
    "plt.imshow(sample[0][0].cpu().numpy(), cmap='gray')"
   ]
  },
  {
   "cell_type": "code",
   "execution_count": 13,
   "id": "aggregate-reservoir",
   "metadata": {
    "ExecuteTime": {
     "end_time": "2021-02-26T05:56:38.611650Z",
     "start_time": "2021-02-26T05:56:38.517605Z"
    }
   },
   "outputs": [
    {
     "data": {
      "text/plain": [
       "<matplotlib.image.AxesImage at 0x28f000ed148>"
      ]
     },
     "execution_count": 13,
     "metadata": {},
     "output_type": "execute_result"
    },
    {
     "data": {
      "image/png": "[encoded data removed]",
      "text/plain": [
       "<Figure size 432x288 with 1 Axes>"
      ]
     },
     "metadata": {
      "needs_background": "light"
     },
     "output_type": "display_data"
    }
   ],
   "source": [
    "plt.imshow(resize(result.numpy(), output_shape=(28, 28)))"
   ]
  },
  {
   "cell_type": "code",
   "execution_count": null,
   "id": "mediterranean-explorer",
   "metadata": {},
   "outputs": [],
   "source": []
  }
 ],
 "metadata": {
  "kernelspec": {
   "display_name": "brain",
   "language": "python",
   "name": "brain"
  },
  "language_info": {
   "codemirror_mode": {
    "name": "ipython",
    "version": 3
   },
   "file_extension": ".py",
   "mimetype": "text/x-python",
   "name": "python",
   "nbconvert_exporter": "python",
   "pygments_lexer": "ipython3",
   "version": "3.7.9"
  },
  "toc": {
   "base_numbering": 1,
   "nav_menu": {},
   "number_sections": true,
   "sideBar": true,
   "skip_h1_title": false,
   "title_cell": "Table of Contents",
   "title_sidebar": "Contents",
   "toc_cell": false,
   "toc_position": {},
   "toc_section_display": true,
   "toc_window_display": false
  }
 },
 "nbformat": 4,
 "nbformat_minor": 5
}
