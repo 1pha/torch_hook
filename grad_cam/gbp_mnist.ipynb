{
 "cells": [
  {
   "cell_type": "code",
   "execution_count": 1,
   "id": "preceding-generator",
   "metadata": {
    "ExecuteTime": {
     "end_time": "2021-02-26T06:24:11.722472Z",
     "start_time": "2021-02-26T06:24:10.181054Z"
    }
   },
   "outputs": [],
   "source": [
    "import os\n",
    "\n",
    "os.environ[\"CUDA_VISIBLE_DEVICES\"]=\"0\"\n",
    "\n",
    "import numpy as np\n",
    "import torch\n",
    "import torch.nn as nn\n",
    "from torchsummary import summary\n",
    "\n",
    "import matplotlib.pyplot as plt\n",
    "%matplotlib inline  \n",
    "\n",
    "from skimage.transform import resize"
   ]
  },
  {
   "cell_type": "code",
   "execution_count": 2,
   "id": "expensive-aberdeen",
   "metadata": {
    "ExecuteTime": {
     "end_time": "2021-02-26T06:24:11.738440Z",
     "start_time": "2021-02-26T06:24:11.724442Z"
    }
   },
   "outputs": [],
   "source": [
    "# from trainer import run\n",
    "\n",
    "# model, result = run()\n",
    "# torch.save(model, 'mnist.pth')"
   ]
  },
  {
   "cell_type": "code",
   "execution_count": 3,
   "id": "palestinian-plenty",
   "metadata": {
    "ExecuteTime": {
     "end_time": "2021-02-26T06:24:13.195678Z",
     "start_time": "2021-02-26T06:24:11.740442Z"
    }
   },
   "outputs": [],
   "source": [
    "device = \"cuda:0\" if torch.cuda.is_available() else \"cpu\"\n",
    "\n",
    "from dataloader import get_dataloader\n",
    "train_loader, _ = get_dataloader()\n",
    "\n",
    "idx = 0\n",
    "batch = next(iter(train_loader))\n",
    "sample = batch[0][idx][None, ...].to(device=device, dtype=torch.float)\n",
    "sample_label = batch[1][idx]"
   ]
  },
  {
   "cell_type": "code",
   "execution_count": 4,
   "id": "derived-placement",
   "metadata": {
    "ExecuteTime": {
     "end_time": "2021-02-26T06:24:13.482641Z",
     "start_time": "2021-02-26T06:24:13.199617Z"
    }
   },
   "outputs": [],
   "source": [
    "from model import CNN\n",
    "model = CNN().to(device)\n",
    "model = torch.load('mnist.pth')"
   ]
  },
  {
   "cell_type": "code",
   "execution_count": 5,
   "id": "apart-graduate",
   "metadata": {
    "ExecuteTime": {
     "end_time": "2021-02-26T06:24:13.498609Z",
     "start_time": "2021-02-26T06:24:13.483636Z"
    }
   },
   "outputs": [
    {
     "name": "stdout",
     "output_type": "stream",
     "text": [
      "Conv2d(1, 32, kernel_size=(3, 3), stride=(1, 1), padding=(1, 1))\n",
      "BatchNorm2d(32, eps=1e-05, momentum=0.1, affine=True, track_running_stats=True)\n",
      "<built-in method apply of FunctionMeta object at 0x0000015769D2B6C8>\n",
      "Conv2d(32, 64, kernel_size=(3, 3), stride=(1, 1), padding=(1, 1))\n",
      "BatchNorm2d(64, eps=1e-05, momentum=0.1, affine=True, track_running_stats=True)\n",
      "<built-in method apply of FunctionMeta object at 0x0000015769D2B6C8>\n",
      "AvgPool2d(kernel_size=2, stride=2, padding=0)\n",
      "Conv2d(64, 128, kernel_size=(3, 3), stride=(1, 1), padding=(1, 1))\n",
      "BatchNorm2d(128, eps=1e-05, momentum=0.1, affine=True, track_running_stats=True)\n",
      "<built-in method apply of FunctionMeta object at 0x0000015769D2B6C8>\n",
      "AvgPool2d(kernel_size=2, stride=2, padding=0)\n",
      "Conv2d(128, 256, kernel_size=(3, 3), stride=(1, 1), padding=(1, 1))\n",
      "BatchNorm2d(256, eps=1e-05, momentum=0.1, affine=True, track_running_stats=True)\n",
      "<built-in method apply of FunctionMeta object at 0x0000015769D2B6C8>\n",
      "Linear(in_features=12544, out_features=1000, bias=True)\n",
      "<built-in method apply of FunctionMeta object at 0x0000015769D2B6C8>\n",
      "Linear(in_features=1000, out_features=10, bias=True)\n"
     ]
    }
   ],
   "source": [
    "from cam import GuidedBackpropRelu, GuidedReluModel\n",
    "guided_relu = GuidedBackpropRelu.apply\n",
    "guide = GuidedReluModel(model,nn.ReLU,guided_relu)"
   ]
  },
  {
   "cell_type": "code",
   "execution_count": 9,
   "id": "buried-presentation",
   "metadata": {
    "ExecuteTime": {
     "end_time": "2021-02-26T06:28:26.103728Z",
     "start_time": "2021-02-26T06:28:26.018741Z"
    }
   },
   "outputs": [
    {
     "name": "stdout",
     "output_type": "stream",
     "text": [
      "out_size: torch.Size([128, 28, 28])\n"
     ]
    }
   ],
   "source": [
    "image, label = next(iter(train_loader))\n",
    "\n",
    "x, y_ = image.float().to(device), label.to(device)\n",
    "x.requires_grad = True\n",
    "\n",
    "output = guide.forward(x)\n",
    "output = torch.index_select(output, dim=1, index=y_)\n",
    "output = torch.sum(output)\n",
    "\n",
    "output.backward(retain_graph=True)"
   ]
  },
  {
   "cell_type": "code",
   "execution_count": 11,
   "id": "built-navigation",
   "metadata": {
    "ExecuteTime": {
     "end_time": "2021-02-26T06:29:12.628925Z",
     "start_time": "2021-02-26T06:29:12.619308Z"
    }
   },
   "outputs": [],
   "source": [
    "guided_img = guide.get_visual(0, x)"
   ]
  },
  {
   "cell_type": "code",
   "execution_count": 18,
   "id": "romantic-desktop",
   "metadata": {
    "ExecuteTime": {
     "end_time": "2021-02-26T06:30:25.205965Z",
     "start_time": "2021-02-26T06:30:25.113872Z"
    }
   },
   "outputs": [
    {
     "data": {
      "text/plain": [
       "<matplotlib.image.AxesImage at 0x1571028a2c8>"
      ]
     },
     "execution_count": 18,
     "metadata": {},
     "output_type": "execute_result"
    },
    {
     "data": {
      "image/png": "[encoded data removed]",
      "text/plain": [
       "<Figure size 432x288 with 1 Axes>"
      ]
     },
     "metadata": {
      "needs_background": "light"
     },
     "output_type": "display_data"
    }
   ],
   "source": [
    "plt.imshow(image[0, 0], cmap='gray')"
   ]
  },
  {
   "cell_type": "code",
   "execution_count": 19,
   "id": "fixed-group",
   "metadata": {
    "ExecuteTime": {
     "end_time": "2021-02-26T06:30:30.472873Z",
     "start_time": "2021-02-26T06:30:30.378366Z"
    }
   },
   "outputs": [
    {
     "data": {
      "text/plain": [
       "<matplotlib.image.AxesImage at 0x1570c6fa388>"
      ]
     },
     "execution_count": 19,
     "metadata": {},
     "output_type": "execute_result"
    },
    {
     "data": {
      "image/png": "[encoded data removed]",
      "text/plain": [
       "<Figure size 432x288 with 1 Axes>"
      ]
     },
     "metadata": {
      "needs_background": "light"
     },
     "output_type": "display_data"
    }
   ],
   "source": [
    "plt.imshow(guided_img, cmap='gray')"
   ]
  },
  {
   "cell_type": "code",
   "execution_count": null,
   "id": "impressive-owner",
   "metadata": {},
   "outputs": [],
   "source": []
  }
 ],
 "metadata": {
  "kernelspec": {
   "display_name": "brain",
   "language": "python",
   "name": "brain"
  },
  "language_info": {
   "codemirror_mode": {
    "name": "ipython",
    "version": 3
   },
   "file_extension": ".py",
   "mimetype": "text/x-python",
   "name": "python",
   "nbconvert_exporter": "python",
   "pygments_lexer": "ipython3",
   "version": "3.7.9"
  },
  "toc": {
   "base_numbering": 1,
   "nav_menu": {},
   "number_sections": true,
   "sideBar": true,
   "skip_h1_title": false,
   "title_cell": "Table of Contents",
   "title_sidebar": "Contents",
   "toc_cell": false,
   "toc_position": {},
   "toc_section_display": true,
   "toc_window_display": false
  }
 },
 "nbformat": 4,
 "nbformat_minor": 5
}
