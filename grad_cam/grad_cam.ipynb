{
 "cells": [
  {
   "cell_type": "code",
   "execution_count": 1,
   "id": "external-effect",
   "metadata": {
    "ExecuteTime": {
     "end_time": "2021-02-23T05:37:22.098951Z",
     "start_time": "2021-02-23T05:37:21.182499Z"
    }
   },
   "outputs": [],
   "source": [
    "import torch\n",
    "import torch.nn as nn\n",
    "from torch.autograd import Variable"
   ]
  },
  {
   "cell_type": "code",
   "execution_count": 2,
   "id": "alpine-voice",
   "metadata": {
    "ExecuteTime": {
     "end_time": "2021-02-23T05:37:22.114921Z",
     "start_time": "2021-02-23T05:37:22.099950Z"
    }
   },
   "outputs": [],
   "source": [
    "class Linear(nn.Module):\n",
    "    def __init__(self,feature_list):\n",
    "        super(Linear,self).__init__()\n",
    "        self.feature_list = feature_list\n",
    "        self.layers = []\n",
    "        \n",
    "        # Define Layers\n",
    "        for i in range(len(feature_list)-1):\n",
    "            self.layers.append(nn.Linear(self.feature_list[i],self.feature_list[i+1]))\n",
    "        self.total = nn.ModuleList(self.layers)\n",
    "             \n",
    "        # Initialize Weights to 1 in order to check gradients easily.\n",
    "        for idx,m in enumerate(self.total):\n",
    "            if isinstance(m, nn.Linear):\n",
    "                m.weight.data.fill_(2)\n",
    "                m.bias.data.fill_(0)\n",
    "                \n",
    "            if idx==1:\n",
    "                self.h0 = m.register_forward_hook(self.forward_hook)\n",
    "                self.h1 = m.register_forward_pre_hook(self.forward_pre_hook)\n",
    "                self.h2 = m.register_backward_hook(self.backward_hook)\n",
    "                \n",
    "                \n",
    "    # hook(module, input, output) -> None            \n",
    "    def forward_hook(self,*args):\n",
    "        module,input,output = args[0],args[1],args[2]\n",
    "        print(\"\\n This is Forward Hook \\n\")\n",
    "        # This part is weird \n",
    "        for i in args:\n",
    "            print(type(i))\n",
    "            \n",
    "        \n",
    "    # hook(module, grad_input, grad_output)\n",
    "    def backward_hook(self,*args):\n",
    "        module, grad_input, grad_output = args[0],args[1],args[2]\n",
    "        print(\"\\n This is Backward Hook \\n\")\n",
    "        print(grad_input)\n",
    "        print(grad_output)\n",
    "        for i in args:\n",
    "            print(type(i))\n",
    "        \n",
    "    \n",
    "    # hook(module, input)\n",
    "    def forward_pre_hook(self,*args):\n",
    "        module, input = args[0],args[1]\n",
    "        print(\"\\n This is Forward Pre Hook \\n\")\n",
    "        for i in args:\n",
    "            print(type(i))\n",
    "        \n",
    "    \n",
    "    def remove_hook(self):\n",
    "        self.h0.remove()\n",
    "        self.h1.remove()\n",
    "        self.h2.remove()\n",
    "    \n",
    "    def forward(self,x):\n",
    "        out = x\n",
    "        for idx,layer in enumerate(self.total):\n",
    "            out = layer(out)\n",
    "        return out"
   ]
  },
  {
   "cell_type": "code",
   "execution_count": 3,
   "id": "informational-alpha",
   "metadata": {
    "ExecuteTime": {
     "end_time": "2021-02-23T05:37:22.129945Z",
     "start_time": "2021-02-23T05:37:22.115952Z"
    }
   },
   "outputs": [
    {
     "name": "stdout",
     "output_type": "stream",
     "text": [
      "Linear(\n",
      "  (total): ModuleList(\n",
      "    (0): Linear(in_features=1, out_features=2, bias=True)\n",
      "    (1): Linear(in_features=2, out_features=4, bias=True)\n",
      "  )\n",
      ")\n"
     ]
    }
   ],
   "source": [
    "feature_list = [1,2,4]\n",
    "model = Linear(feature_list)\n",
    "print(model)"
   ]
  },
  {
   "cell_type": "code",
   "execution_count": 4,
   "id": "architectural-winter",
   "metadata": {
    "ExecuteTime": {
     "end_time": "2021-02-23T05:37:22.145958Z",
     "start_time": "2021-02-23T05:37:22.131921Z"
    }
   },
   "outputs": [
    {
     "name": "stdout",
     "output_type": "stream",
     "text": [
      "\n",
      " This is Forward Pre Hook \n",
      "\n",
      "<class 'torch.nn.modules.linear.Linear'>\n",
      "<class 'tuple'>\n",
      "\n",
      " This is Forward Hook \n",
      "\n",
      "<class 'torch.nn.modules.linear.Linear'>\n",
      "<class 'tuple'>\n",
      "<class 'torch.Tensor'>\n"
     ]
    }
   ],
   "source": [
    "x = Variable(torch.ones(3,1),requires_grad=True)\n",
    "out = model(x)\n",
    "out = torch.sum(out)"
   ]
  },
  {
   "cell_type": "code",
   "execution_count": 5,
   "id": "intensive-victim",
   "metadata": {
    "ExecuteTime": {
     "end_time": "2021-02-23T05:37:22.193919Z",
     "start_time": "2021-02-23T05:37:22.147921Z"
    }
   },
   "outputs": [
    {
     "name": "stdout",
     "output_type": "stream",
     "text": [
      "\n",
      " This is Backward Hook \n",
      "\n",
      "(tensor([3., 3., 3., 3.]), tensor([[8., 8.],\n",
      "        [8., 8.],\n",
      "        [8., 8.]]), tensor([[6., 6., 6., 6.],\n",
      "        [6., 6., 6., 6.]]))\n",
      "(tensor([[1., 1., 1., 1.],\n",
      "        [1., 1., 1., 1.],\n",
      "        [1., 1., 1., 1.]]),)\n",
      "<class 'torch.nn.modules.linear.Linear'>\n",
      "<class 'tuple'>\n",
      "<class 'tuple'>\n"
     ]
    }
   ],
   "source": [
    "out.backward()"
   ]
  },
  {
   "cell_type": "code",
   "execution_count": 6,
   "id": "neither-topic",
   "metadata": {
    "ExecuteTime": {
     "end_time": "2021-02-23T05:37:22.209919Z",
     "start_time": "2021-02-23T05:37:22.195921Z"
    }
   },
   "outputs": [
    {
     "data": {
      "text/plain": [
       "<torch.utils.hooks.RemovableHandle at 0x28237c21cc8>"
      ]
     },
     "execution_count": 6,
     "metadata": {},
     "output_type": "execute_result"
    }
   ],
   "source": [
    "model.h2"
   ]
  },
  {
   "cell_type": "code",
   "execution_count": 7,
   "id": "civil-result",
   "metadata": {
    "ExecuteTime": {
     "end_time": "2021-02-23T05:37:22.224924Z",
     "start_time": "2021-02-23T05:37:22.211920Z"
    }
   },
   "outputs": [
    {
     "name": "stdout",
     "output_type": "stream",
     "text": [
      "Linear(in_features=2, out_features=4, bias=True)\n"
     ]
    }
   ],
   "source": [
    "for idx, _ in enumerate(model.total):\n",
    "    \n",
    "    if idx == 1:\n",
    "        print(_)"
   ]
  },
  {
   "cell_type": "code",
   "execution_count": 8,
   "id": "terminal-pledge",
   "metadata": {
    "ExecuteTime": {
     "end_time": "2021-02-23T05:37:22.240918Z",
     "start_time": "2021-02-23T05:37:22.229922Z"
    }
   },
   "outputs": [
    {
     "data": {
      "text/plain": [
       "torch.Size([])"
      ]
     },
     "execution_count": 8,
     "metadata": {},
     "output_type": "execute_result"
    }
   ],
   "source": [
    "out.shape"
   ]
  },
  {
   "cell_type": "code",
   "execution_count": 9,
   "id": "primary-ballot",
   "metadata": {
    "ExecuteTime": {
     "end_time": "2021-02-23T05:37:22.255918Z",
     "start_time": "2021-02-23T05:37:22.241920Z"
    }
   },
   "outputs": [
    {
     "data": {
      "text/plain": [
       "tensor(96., grad_fn=<SumBackward0>)"
      ]
     },
     "execution_count": 9,
     "metadata": {},
     "output_type": "execute_result"
    }
   ],
   "source": [
    "out"
   ]
  },
  {
   "cell_type": "code",
   "execution_count": null,
   "id": "guilty-subscription",
   "metadata": {},
   "outputs": [],
   "source": []
  }
 ],
 "metadata": {
  "kernelspec": {
   "display_name": "brain",
   "language": "python",
   "name": "brain"
  },
  "language_info": {
   "codemirror_mode": {
    "name": "ipython",
    "version": 3
   },
   "file_extension": ".py",
   "mimetype": "text/x-python",
   "name": "python",
   "nbconvert_exporter": "python",
   "pygments_lexer": "ipython3",
   "version": "3.7.9"
  },
  "toc": {
   "base_numbering": 1,
   "nav_menu": {},
   "number_sections": true,
   "sideBar": true,
   "skip_h1_title": false,
   "title_cell": "Table of Contents",
   "title_sidebar": "Contents",
   "toc_cell": false,
   "toc_position": {},
   "toc_section_display": true,
   "toc_window_display": false
  }
 },
 "nbformat": 4,
 "nbformat_minor": 5
}
